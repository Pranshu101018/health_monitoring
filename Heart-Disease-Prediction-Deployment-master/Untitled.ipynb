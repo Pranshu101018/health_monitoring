{
 "cells": [
  {
   "cell_type": "code",
   "execution_count": 1,
   "id": "1c1a4ca4-f9c9-4ff9-8e0c-c374783f0155",
   "metadata": {},
   "outputs": [],
   "source": [
    "import numpy as np\n",
    "import pandas as pd\n",
    "import pickle\n",
    "from sklearn.preprocessing import StandardScaler\n",
    "from sklearn.model_selection import train_test_split\n",
    "from sklearn.linear_model import LogisticRegression\n",
    "from sklearn.metrics import accuracy_score, classification_report, confusion_matrix\n",
    "from sklearn.ensemble import RandomForestClassifier\n",
    "from sklearn.svm import SVC\n",
    "from sklearn.linear_model import LogisticRegression\n",
    "from sklearn.neighbors import KNeighborsClassifier\n",
    "from sklearn.tree import DecisionTreeClassifier"
   ]
  },
  {
   "cell_type": "code",
   "execution_count": 2,
   "id": "68aaeec3-00f9-4c23-9339-9a3ba2c5d9a0",
   "metadata": {},
   "outputs": [],
   "source": [
    "heart = pd.read_csv(\"heart_cleveland_upload.csv\")"
   ]
  },
  {
   "cell_type": "code",
   "execution_count": 3,
   "id": "5da4d3e2-7457-4d6a-9dff-2aac7f2f64c6",
   "metadata": {},
   "outputs": [],
   "source": [
    "heart_df = heart.copy()"
   ]
  },
  {
   "cell_type": "code",
   "execution_count": 4,
   "id": "b0634f37-ff26-4c53-ba93-05ab99a6ec7a",
   "metadata": {},
   "outputs": [
    {
     "name": "stdout",
     "output_type": "stream",
     "text": [
      "   age  sex  cp  trestbps  chol  fbs  restecg  thalach  exang  oldpeak  slope  \\\n",
      "0   69    1   0       160   234    1        2      131      0      0.1      1   \n",
      "1   69    0   0       140   239    0        0      151      0      1.8      0   \n",
      "2   66    0   0       150   226    0        0      114      0      2.6      2   \n",
      "3   65    1   0       138   282    1        2      174      0      1.4      1   \n",
      "4   64    1   0       110   211    0        2      144      1      1.8      1   \n",
      "\n",
      "   ca  thal  target  \n",
      "0   1     0       0  \n",
      "1   2     0       0  \n",
      "2   0     0       0  \n",
      "3   1     0       1  \n",
      "4   0     0       0  \n"
     ]
    }
   ],
   "source": [
    "heart_df = heart_df.rename(columns={'condition':'target'})\n",
    "print(heart_df.head())"
   ]
  },
  {
   "cell_type": "code",
   "execution_count": 5,
   "id": "decebfac-f046-488a-b59e-48af6a10b91f",
   "metadata": {},
   "outputs": [],
   "source": [
    "x= heart_df.drop(columns= 'target')\n",
    "y= heart_df.target"
   ]
  },
  {
   "cell_type": "code",
   "execution_count": 6,
   "id": "b3cb825d-fc4e-4202-b09b-c5021e0634ed",
   "metadata": {},
   "outputs": [],
   "source": [
    "x_train, x_test, y_train, y_test= train_test_split(x, y, test_size= 0.25, random_state=42)\n"
   ]
  },
  {
   "cell_type": "code",
   "execution_count": 7,
   "id": "672c9dc5-7f71-4af2-9675-923ee4f8d204",
   "metadata": {},
   "outputs": [],
   "source": [
    "scaler= StandardScaler()\n",
    "x_train_scaler= scaler.fit_transform(x_train)\n",
    "x_test_scaler= scaler.fit_transform(x_test)"
   ]
  },
  {
   "cell_type": "code",
   "execution_count": 8,
   "id": "39bf1734-b8f7-46a9-9651-caa4dc66fa5a",
   "metadata": {},
   "outputs": [
    {
     "name": "stdout",
     "output_type": "stream",
     "text": [
      "0.8133333333333334\n"
     ]
    }
   ],
   "source": [
    "model=RandomForestClassifier(n_estimators=20)\n",
    "model.fit(x_train_scaler, y_train)\n",
    "y_pred= model.predict(x_test_scaler)\n",
    "p = model.score(x_test_scaler,y_test)\n",
    "print(p)"
   ]
  },
  {
   "cell_type": "code",
   "execution_count": 9,
   "id": "ccf7ce13-05ac-472d-9462-c6b746303793",
   "metadata": {},
   "outputs": [
    {
     "name": "stdout",
     "output_type": "stream",
     "text": [
      "Classification Report\n",
      "               precision    recall  f1-score   support\n",
      "\n",
      "           0       0.82      0.82      0.82        38\n",
      "           1       0.81      0.81      0.81        37\n",
      "\n",
      "    accuracy                           0.81        75\n",
      "   macro avg       0.81      0.81      0.81        75\n",
      "weighted avg       0.81      0.81      0.81        75\n",
      "\n",
      "Accuracy: 81.33%\n",
      "\n"
     ]
    }
   ],
   "source": [
    "print('Classification Report\\n', classification_report(y_test, y_pred))\n",
    "print('Accuracy: {}%\\n'.format(round((accuracy_score(y_test, y_pred)*100),2)))"
   ]
  },
  {
   "cell_type": "code",
   "execution_count": 10,
   "id": "948df25d-9c2d-4972-9605-226bdf73076f",
   "metadata": {},
   "outputs": [
    {
     "name": "stdout",
     "output_type": "stream",
     "text": [
      "[[31  7]\n",
      " [ 7 30]]\n"
     ]
    }
   ],
   "source": [
    "cm = confusion_matrix(y_test, y_pred)\n",
    "print(cm)"
   ]
  },
  {
   "cell_type": "code",
   "execution_count": 11,
   "id": "b90d4677-fb48-4926-b807-df220305c674",
   "metadata": {},
   "outputs": [],
   "source": [
    "filename = 'model.pkl'\n",
    "pickle.dump(model, open(filename, 'wb'))\n"
   ]
  }
 ],
 "metadata": {
  "kernelspec": {
   "display_name": "Python 3 (ipykernel)",
   "language": "python",
   "name": "python3"
  },
  "language_info": {
   "codemirror_mode": {
    "name": "ipython",
    "version": 3
   },
   "file_extension": ".py",
   "mimetype": "text/x-python",
   "name": "python",
   "nbconvert_exporter": "python",
   "pygments_lexer": "ipython3",
   "version": "3.12.4"
  }
 },
 "nbformat": 4,
 "nbformat_minor": 5
}
